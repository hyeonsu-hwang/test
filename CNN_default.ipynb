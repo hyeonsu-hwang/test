{
  "cells": [
    {
      "cell_type": "code",
      "execution_count": null,
      "metadata": {
        "id": "EqRw6-MGaDID"
      },
      "outputs": [],
      "source": [
        "### CNN 기본\n",
        "\n",
        "import numpy as np\n",
        "import seaborn as sns\n",
        "from tensorflow.keras import layers\n",
        "from tensorflow.keras.preprocessing.image import ImageDataGenerator\n",
        "from tensorflow.keras.models import Sequential, Model, load_model\n",
        "from tensorflow.keras.optimizers import Adam\n",
        "from sklearn import metrics\n",
        "import tensorflow as tf\n",
        "\n",
        "import os\n",
        "import glob\n",
        "import pandas as pd\n",
        "import matplotlib.pyplot as plt"
      ]
    },
    {
      "cell_type": "code",
      "execution_count": null,
      "metadata": {
        "colab": {
          "base_uri": "https://localhost:8080/"
        },
        "id": "GRuU8nB5aYIn",
        "outputId": "6a046acd-2206-492c-f725-449dc3d34d2a"
      },
      "outputs": [
        {
          "name": "stdout",
          "output_type": "stream",
          "text": [
            "Drive already mounted at /content/drive/; to attempt to forcibly remount, call drive.mount(\"/content/drive/\", force_remount=True).\n"
          ]
        }
      ],
      "source": [
        "#코랩 마운트\n",
        "from google.colab import drive\n",
        "drive.mount('/content/drive/')"
      ]
    },
    {
      "cell_type": "code",
      "execution_count": null,
      "metadata": {
        "colab": {
          "base_uri": "https://localhost:8080/"
        },
        "id": "7eB6da19anXI",
        "outputId": "279362a2-1b2c-4934-e103-3938a77d09f7"
      },
      "outputs": [
        {
          "name": "stdout",
          "output_type": "stream",
          "text": [
            "/content/drive/My Drive/face\n"
          ]
        }
      ],
      "source": [
        "%cd \"/content/drive/My Drive/face\""
      ]
    },
    {
      "cell_type": "code",
      "execution_count": null,
      "metadata": {
        "id": "P3sQxD3yasWB"
      },
      "outputs": [],
      "source": [
        "#압축해제\n",
        "#!unzip -qq \"/content/drive/MyDrive/real-vs-fake.zip\""
      ]
    },
    {
      "cell_type": "code",
      "execution_count": null,
      "metadata": {
        "colab": {
          "base_uri": "https://localhost:8080/",
          "height": 424
        },
        "id": "Daf27mWYaorA",
        "outputId": "ba082fe1-eff4-469a-8402-688f82a2c1ed"
      },
      "outputs": [
        {
          "data": {
            "text/html": [
              "\n",
              "  <div id=\"df-8d08c4bb-6a49-4e37-9b97-e8081bdbe608\">\n",
              "    <div class=\"colab-df-container\">\n",
              "      <div>\n",
              "<style scoped>\n",
              "    .dataframe tbody tr th:only-of-type {\n",
              "        vertical-align: middle;\n",
              "    }\n",
              "\n",
              "    .dataframe tbody tr th {\n",
              "        vertical-align: top;\n",
              "    }\n",
              "\n",
              "    .dataframe thead th {\n",
              "        text-align: right;\n",
              "    }\n",
              "</style>\n",
              "<table border=\"1\" class=\"dataframe\">\n",
              "  <thead>\n",
              "    <tr style=\"text-align: right;\">\n",
              "      <th></th>\n",
              "      <th>image_path</th>\n",
              "      <th>img_status</th>\n",
              "      <th>where</th>\n",
              "    </tr>\n",
              "  </thead>\n",
              "  <tbody>\n",
              "    <tr>\n",
              "      <th>0</th>\n",
              "      <td>/content/drive/My Drive/face/test/fake/00276TO...</td>\n",
              "      <td>fake</td>\n",
              "      <td>test</td>\n",
              "    </tr>\n",
              "    <tr>\n",
              "      <th>1</th>\n",
              "      <td>/content/drive/My Drive/face/test/fake/008BYSE...</td>\n",
              "      <td>fake</td>\n",
              "      <td>test</td>\n",
              "    </tr>\n",
              "    <tr>\n",
              "      <th>2</th>\n",
              "      <td>/content/drive/My Drive/face/test/fake/009ZTJ3...</td>\n",
              "      <td>fake</td>\n",
              "      <td>test</td>\n",
              "    </tr>\n",
              "    <tr>\n",
              "      <th>3</th>\n",
              "      <td>/content/drive/My Drive/face/test/fake/00F8LKY...</td>\n",
              "      <td>fake</td>\n",
              "      <td>test</td>\n",
              "    </tr>\n",
              "    <tr>\n",
              "      <th>4</th>\n",
              "      <td>/content/drive/My Drive/face/test/fake/00JEP4Z...</td>\n",
              "      <td>fake</td>\n",
              "      <td>test</td>\n",
              "    </tr>\n",
              "    <tr>\n",
              "      <th>...</th>\n",
              "      <td>...</td>\n",
              "      <td>...</td>\n",
              "      <td>...</td>\n",
              "    </tr>\n",
              "    <tr>\n",
              "      <th>139995</th>\n",
              "      <td>/content/drive/My Drive/face/valid/real/69960.jpg</td>\n",
              "      <td>real</td>\n",
              "      <td>valid</td>\n",
              "    </tr>\n",
              "    <tr>\n",
              "      <th>139996</th>\n",
              "      <td>/content/drive/My Drive/face/valid/real/69963.jpg</td>\n",
              "      <td>real</td>\n",
              "      <td>valid</td>\n",
              "    </tr>\n",
              "    <tr>\n",
              "      <th>139997</th>\n",
              "      <td>/content/drive/My Drive/face/valid/real/69987.jpg</td>\n",
              "      <td>real</td>\n",
              "      <td>valid</td>\n",
              "    </tr>\n",
              "    <tr>\n",
              "      <th>139998</th>\n",
              "      <td>/content/drive/My Drive/face/valid/real/69996.jpg</td>\n",
              "      <td>real</td>\n",
              "      <td>valid</td>\n",
              "    </tr>\n",
              "    <tr>\n",
              "      <th>139999</th>\n",
              "      <td>/content/drive/My Drive/face/valid/real/69997.jpg</td>\n",
              "      <td>real</td>\n",
              "      <td>valid</td>\n",
              "    </tr>\n",
              "  </tbody>\n",
              "</table>\n",
              "<p>140000 rows × 3 columns</p>\n",
              "</div>\n",
              "      <button class=\"colab-df-convert\" onclick=\"convertToInteractive('df-8d08c4bb-6a49-4e37-9b97-e8081bdbe608')\"\n",
              "              title=\"Convert this dataframe to an interactive table.\"\n",
              "              style=\"display:none;\">\n",
              "        \n",
              "  <svg xmlns=\"http://www.w3.org/2000/svg\" height=\"24px\"viewBox=\"0 0 24 24\"\n",
              "       width=\"24px\">\n",
              "    <path d=\"M0 0h24v24H0V0z\" fill=\"none\"/>\n",
              "    <path d=\"M18.56 5.44l.94 2.06.94-2.06 2.06-.94-2.06-.94-.94-2.06-.94 2.06-2.06.94zm-11 1L8.5 8.5l.94-2.06 2.06-.94-2.06-.94L8.5 2.5l-.94 2.06-2.06.94zm10 10l.94 2.06.94-2.06 2.06-.94-2.06-.94-.94-2.06-.94 2.06-2.06.94z\"/><path d=\"M17.41 7.96l-1.37-1.37c-.4-.4-.92-.59-1.43-.59-.52 0-1.04.2-1.43.59L10.3 9.45l-7.72 7.72c-.78.78-.78 2.05 0 2.83L4 21.41c.39.39.9.59 1.41.59.51 0 1.02-.2 1.41-.59l7.78-7.78 2.81-2.81c.8-.78.8-2.07 0-2.86zM5.41 20L4 18.59l7.72-7.72 1.47 1.35L5.41 20z\"/>\n",
              "  </svg>\n",
              "      </button>\n",
              "      \n",
              "  <style>\n",
              "    .colab-df-container {\n",
              "      display:flex;\n",
              "      flex-wrap:wrap;\n",
              "      gap: 12px;\n",
              "    }\n",
              "\n",
              "    .colab-df-convert {\n",
              "      background-color: #E8F0FE;\n",
              "      border: none;\n",
              "      border-radius: 50%;\n",
              "      cursor: pointer;\n",
              "      display: none;\n",
              "      fill: #1967D2;\n",
              "      height: 32px;\n",
              "      padding: 0 0 0 0;\n",
              "      width: 32px;\n",
              "    }\n",
              "\n",
              "    .colab-df-convert:hover {\n",
              "      background-color: #E2EBFA;\n",
              "      box-shadow: 0px 1px 2px rgba(60, 64, 67, 0.3), 0px 1px 3px 1px rgba(60, 64, 67, 0.15);\n",
              "      fill: #174EA6;\n",
              "    }\n",
              "\n",
              "    [theme=dark] .colab-df-convert {\n",
              "      background-color: #3B4455;\n",
              "      fill: #D2E3FC;\n",
              "    }\n",
              "\n",
              "    [theme=dark] .colab-df-convert:hover {\n",
              "      background-color: #434B5C;\n",
              "      box-shadow: 0px 1px 3px 1px rgba(0, 0, 0, 0.15);\n",
              "      filter: drop-shadow(0px 1px 2px rgba(0, 0, 0, 0.3));\n",
              "      fill: #FFFFFF;\n",
              "    }\n",
              "  </style>\n",
              "\n",
              "      <script>\n",
              "        const buttonEl =\n",
              "          document.querySelector('#df-8d08c4bb-6a49-4e37-9b97-e8081bdbe608 button.colab-df-convert');\n",
              "        buttonEl.style.display =\n",
              "          google.colab.kernel.accessAllowed ? 'block' : 'none';\n",
              "\n",
              "        async function convertToInteractive(key) {\n",
              "          const element = document.querySelector('#df-8d08c4bb-6a49-4e37-9b97-e8081bdbe608');\n",
              "          const dataTable =\n",
              "            await google.colab.kernel.invokeFunction('convertToInteractive',\n",
              "                                                     [key], {});\n",
              "          if (!dataTable) return;\n",
              "\n",
              "          const docLinkHtml = 'Like what you see? Visit the ' +\n",
              "            '<a target=\"_blank\" href=https://colab.research.google.com/notebooks/data_table.ipynb>data table notebook</a>'\n",
              "            + ' to learn more about interactive tables.';\n",
              "          element.innerHTML = '';\n",
              "          dataTable['output_type'] = 'display_data';\n",
              "          await google.colab.output.renderOutput(dataTable, element);\n",
              "          const docLink = document.createElement('div');\n",
              "          docLink.innerHTML = docLinkHtml;\n",
              "          element.appendChild(docLink);\n",
              "        }\n",
              "      </script>\n",
              "    </div>\n",
              "  </div>\n",
              "  "
            ],
            "text/plain": [
              "                                               image_path img_status  where\n",
              "0       /content/drive/My Drive/face/test/fake/00276TO...       fake   test\n",
              "1       /content/drive/My Drive/face/test/fake/008BYSE...       fake   test\n",
              "2       /content/drive/My Drive/face/test/fake/009ZTJ3...       fake   test\n",
              "3       /content/drive/My Drive/face/test/fake/00F8LKY...       fake   test\n",
              "4       /content/drive/My Drive/face/test/fake/00JEP4Z...       fake   test\n",
              "...                                                   ...        ...    ...\n",
              "139995  /content/drive/My Drive/face/valid/real/69960.jpg       real  valid\n",
              "139996  /content/drive/My Drive/face/valid/real/69963.jpg       real  valid\n",
              "139997  /content/drive/My Drive/face/valid/real/69987.jpg       real  valid\n",
              "139998  /content/drive/My Drive/face/valid/real/69996.jpg       real  valid\n",
              "139999  /content/drive/My Drive/face/valid/real/69997.jpg       real  valid\n",
              "\n",
              "[140000 rows x 3 columns]"
            ]
          },
          "execution_count": 4,
          "metadata": {},
          "output_type": "execute_result"
        }
      ],
      "source": [
        "# eda를 위해 데이터프레임 저장\n",
        "path = '/content/drive/My Drive/face/'\n",
        "\n",
        "dataset = {\"image_path\":[],\"img_status\":[],\"where\":[]}\n",
        "for where in os.listdir(path):\n",
        "    for status in os.listdir(path+\"/\"+where):\n",
        "        for image in glob.glob(path+where+\"/\"+status+\"/\"+\"*.jpg\"):\n",
        "            dataset[\"image_path\"].append(image)\n",
        "            dataset[\"img_status\"].append(status)\n",
        "            dataset[\"where\"].append(where)\n",
        "dataset = pd.DataFrame(dataset)\n",
        "dataset"
      ]
    },
    {
      "cell_type": "code",
      "execution_count": null,
      "metadata": {
        "colab": {
          "base_uri": "https://localhost:8080/"
        },
        "id": "DUzKbp_Dc2Uw",
        "outputId": "bed18e0f-a0ae-4343-8d06-2b2701f866b0"
      },
      "outputs": [
        {
          "name": "stdout",
          "output_type": "stream",
          "text": [
            "img_status\n",
            "fake    70000\n",
            "real    70000\n",
            "dtype: int64 70000 70000\n"
          ]
        }
      ],
      "source": [
        "#개수 확인\n",
        "total = dataset.value_counts(\"img_status\")\n",
        "real = dataset.value_counts(\"img_status\")[1]\n",
        "fake = dataset.value_counts(\"img_status\")[0]\n",
        "print(total, real, fake)"
      ]
    },
    {
      "cell_type": "code",
      "execution_count": null,
      "metadata": {
        "colab": {
          "base_uri": "https://localhost:8080/",
          "height": 393
        },
        "id": "y8sprPkHc8bk",
        "outputId": "0b852533-a691-4982-b043-4e9a5d9bb14a"
      },
      "outputs": [
        {
          "name": "stdout",
          "output_type": "stream",
          "text": [
            "Real: 70000,\n",
            "Fake: 70000\n",
            "\n"
          ]
        },
        {
          "name": "stderr",
          "output_type": "stream",
          "text": [
            "/usr/local/lib/python3.7/dist-packages/seaborn/_decorators.py:43: FutureWarning: Pass the following variable as a keyword arg: x. From version 0.12, the only valid positional argument will be `data`, and passing other arguments without an explicit keyword will result in an error or misinterpretation.\n",
            "  FutureWarning\n"
          ]
        },
        {
          "data": {
            "image/png": "[encoded data removed]",
            "text/plain": [
              "<Figure size 432x288 with 1 Axes>"
            ]
          },
          "metadata": {},
          "output_type": "display_data"
        }
      ],
      "source": [
        "#막대 그래프 plot\n",
        "import seaborn as sns\n",
        "print(f\"Real: {real},\\nFake: {fake}\\n\")\n",
        "sns.countplot(dataset[\"img_status\"])\n",
        "plt.show()"
      ]
    },
    {
      "cell_type": "code",
      "execution_count": null,
      "metadata": {
        "colab": {
          "base_uri": "https://localhost:8080/"
        },
        "id": "ZYSth-jnc-jk",
        "outputId": "4e27438d-6709-4dce-b570-f48a1e1d4ab3"
      },
      "outputs": [
        {
          "name": "stdout",
          "output_type": "stream",
          "text": [
            "Found 100000 images belonging to 2 classes.\n",
            "Found 20000 images belonging to 2 classes.\n",
            "Found 20000 images belonging to 2 classes.\n"
          ]
        }
      ],
      "source": [
        "#데이터 경로 지정 등 설정\n",
        "from tensorflow.keras import layers, models, backend, utils, metrics\n",
        "from tensorflow.keras.preprocessing.image import ImageDataGenerator\n",
        "\n",
        "image_gen = ImageDataGenerator()\n",
        "\n",
        "train_generator = image_gen.flow_from_directory(\n",
        "    path + 'train/',\n",
        "    target_size=(32, 32),\n",
        "    batch_size=64,\n",
        "    color_mode='grayscale',\n",
        "    class_mode='binary'\n",
        ")\n",
        "\n",
        "valid_generator = image_gen.flow_from_directory(\n",
        "    path + 'valid/',\n",
        "    target_size=(32, 32),\n",
        "    batch_size=64,\n",
        "    color_mode='grayscale',\n",
        "    class_mode='binary'\n",
        ")\n",
        "\n",
        "test_generator = image_gen.flow_from_directory(\n",
        "    path + 'test/',\n",
        "    target_size=(32, 32),\n",
        "    batch_size=64,\n",
        "    color_mode='grayscale',\n",
        "    shuffle = False,\n",
        "    class_mode='binary'\n",
        ")"
      ]
    },
    {
      "cell_type": "code",
      "execution_count": null,
      "metadata": {
        "colab": {
          "base_uri": "https://localhost:8080/"
        },
        "id": "VBlwLaxy_hnv",
        "outputId": "5d136a8c-7bd2-486b-fce2-8da3d3ac4a89"
      },
      "outputs": [
        {
          "name": "stdout",
          "output_type": "stream",
          "text": [
            "Model: \"sequential\"\n",
            "_________________________________________________________________\n",
            " Layer (type)                Output Shape              Param #   \n",
            "=================================================================\n",
            " conv2d (Conv2D)             (None, 30, 30, 32)        320       \n",
            "                                                                 \n",
            " max_pooling2d (MaxPooling2D  (None, 15, 15, 32)       0         \n",
            " )                                                               \n",
            "                                                                 \n",
            " conv2d_1 (Conv2D)           (None, 13, 13, 64)        18496     \n",
            "                                                                 \n",
            " max_pooling2d_1 (MaxPooling  (None, 6, 6, 64)         0         \n",
            " 2D)                                                             \n",
            "                                                                 \n",
            " flatten (Flatten)           (None, 2304)              0         \n",
            "                                                                 \n",
            " dense (Dense)               (None, 64)                147520    \n",
            "                                                                 \n",
            " dense_1 (Dense)             (None, 1)                 65        \n",
            "                                                                 \n",
            "=================================================================\n",
            "Total params: 166,401\n",
            "Trainable params: 166,401\n",
            "Non-trainable params: 0\n",
            "_________________________________________________________________\n"
          ]
        }
      ],
      "source": [
        "#구조 생성\n",
        "model = models.Sequential()\n",
        "\n",
        "model.add(layers.Conv2D(32, (3, 3),activation='relu', input_shape=(32, 32, 1)))\n",
        "model.add(layers.MaxPooling2D((2, 2)))\n",
        "model.add(layers.Conv2D(64, (3, 3), activation='relu'))\n",
        "model.add(layers.MaxPooling2D((2, 2)))\n",
        "model.add(layers.Flatten())\n",
        "model.add(layers.Dense(64, activation='relu'))\n",
        "model.add(layers.Dense(1, activation='sigmoid'))\n",
        "\n",
        "model.compile(loss='binary_crossentropy', optimizer='Adam', metrics=['accuracy'])\n",
        "\n",
        "model.summary()"
      ]
    },
    {
      "cell_type": "code",
      "execution_count": null,
      "metadata": {
        "colab": {
          "base_uri": "https://localhost:8080/"
        },
        "id": "D2o-L6do_kLG",
        "outputId": "ea15f824-52af-4d53-f635-d6750c2be6aa"
      },
      "outputs": [
        {
          "output_type": "stream",
          "name": "stderr",
          "text": [
            "/usr/local/lib/python3.7/dist-packages/ipykernel_launcher.py:9: UserWarning: `Model.fit_generator` is deprecated and will be removed in a future version. Please use `Model.fit`, which supports generators.\n",
            "  if __name__ == '__main__':\n"
          ]
        },
        {
          "output_type": "stream",
          "name": "stdout",
          "text": [
            "Epoch 1/10\n",
            "1563/1563 [==============================] - 348s 223ms/step - loss: 0.4965 - accuracy: 0.7591 - val_loss: 0.4764 - val_accuracy: 0.7746\n",
            "Epoch 2/10\n",
            "1563/1563 [==============================] - 352s 225ms/step - loss: 0.4439 - accuracy: 0.7934 - val_loss: 0.4341 - val_accuracy: 0.8015\n",
            "Epoch 3/10\n",
            "1563/1563 [==============================] - 349s 223ms/step - loss: 0.4029 - accuracy: 0.8161 - val_loss: 0.4290 - val_accuracy: 0.8015\n",
            "Epoch 4/10\n",
            "1563/1563 [==============================] - 356s 228ms/step - loss: 0.3717 - accuracy: 0.8343 - val_loss: 0.4099 - val_accuracy: 0.8144\n",
            "Epoch 5/10\n",
            "1563/1563 [==============================] - 361s 231ms/step - loss: 0.3426 - accuracy: 0.8482 - val_loss: 0.3907 - val_accuracy: 0.8301\n",
            "Epoch 6/10\n",
            "1563/1563 [==============================] - 345s 221ms/step - loss: 0.3171 - accuracy: 0.8625 - val_loss: 0.3856 - val_accuracy: 0.8315\n",
            "Epoch 7/10\n",
            "1563/1563 [==============================] - 354s 226ms/step - loss: 0.2949 - accuracy: 0.8723 - val_loss: 0.3862 - val_accuracy: 0.8311\n",
            "Epoch 8/10\n",
            "1563/1563 [==============================] - 353s 226ms/step - loss: 0.2734 - accuracy: 0.8850 - val_loss: 0.3863 - val_accuracy: 0.8377\n",
            "Epoch 9/10\n",
            "1563/1563 [==============================] - 357s 229ms/step - loss: 0.2544 - accuracy: 0.8925 - val_loss: 0.3912 - val_accuracy: 0.8354\n",
            "Epoch 10/10\n",
            "1563/1563 [==============================] - 365s 234ms/step - loss: 0.2400 - accuracy: 0.8983 - val_loss: 0.3823 - val_accuracy: 0.8459\n"
          ]
        }
      ],
      "source": [
        "#모델 학습\n",
        "train_steps = 100000//64\n",
        "valid_steps = 20000//64\n",
        "\n",
        "hist = model.fit_generator(\n",
        "    train_generator,\n",
        "    epochs=10,\n",
        "    validation_data=valid_generator,\n",
        "    validation_steps=valid_steps\n",
        ")"
      ]
    },
    {
      "cell_type": "code",
      "execution_count": null,
      "metadata": {
        "colab": {
          "base_uri": "https://localhost:8080/",
          "height": 193
        },
        "id": "j3Q28y0vA4Tf",
        "outputId": "aebbdea1-fc55-4f9f-90f5-38955283d145"
      },
      "outputs": [
        {
          "output_type": "display_data",
          "data": {
            "text/plain": [
              "<Figure size 1440x216 with 4 Axes>"
            ],
            "image/png": "[encoded data removed]"
          },
          "metadata": {
            "needs_background": "light"
          }
        }
      ],
      "source": [
        "#acc 및 loss plot\n",
        "import matplotlib.pyplot as plt\n",
        "import seaborn as sns\n",
        "from sklearn import metrics\n",
        "\n",
        "fig, ax = plt.subplots(1, 4, figsize=(20, 3))\n",
        "ax = ax.ravel()\n",
        "\n",
        "for i, met in enumerate([ \"accuracy\", \"loss\"]):\n",
        "    ax[i].plot(hist.history[met])\n",
        "    ax[i].plot(hist.history[\"val_\" + met])\n",
        "    ax[i].set_title(\"Model {}\".format(met))\n",
        "    ax[i].set_xlabel(\"epochs\")\n",
        "    ax[i].set_ylabel(met)\n",
        "    ax[i].legend([\"train\", \"val\"])"
      ]
    },
    {
      "cell_type": "code",
      "execution_count": null,
      "metadata": {
        "colab": {
          "base_uri": "https://localhost:8080/"
        },
        "id": "BYlAjh5jA6I2",
        "outputId": "1be1ac47-06b3-47e9-f277-e372fd41f9de"
      },
      "outputs": [
        {
          "output_type": "stream",
          "name": "stdout",
          "text": [
            "313/313 [==============================] - 60s 191ms/step - loss: 0.3795 - accuracy: 0.8445\n"
          ]
        },
        {
          "output_type": "execute_result",
          "data": {
            "text/plain": [
              "[0.37950289249420166, 0.8445000052452087]"
            ]
          },
          "metadata": {},
          "execution_count": 12
        }
      ],
      "source": [
        "#test 평가\n",
        "model.evaluate(test_generator)"
      ]
    }
  ],
  "metadata": {
    "colab": {
      "machine_shape": "hm",
      "provenance": []
    },
    "gpuClass": "premium",
    "kernelspec": {
      "display_name": "Python 3",
      "name": "python3"
    },
    "language_info": {
      "name": "python"
    }
  },
  "nbformat": 4,
  "nbformat_minor": 0
}